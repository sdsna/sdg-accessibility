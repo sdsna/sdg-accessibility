{
 "cells": [
  {
   "cell_type": "code",
   "execution_count": 3,
   "id": "5efb92b9",
   "metadata": {},
   "outputs": [],
   "source": [
    "import geopandas as gpd"
   ]
  },
  {
   "cell_type": "code",
   "execution_count": 4,
   "id": "cfb93853",
   "metadata": {},
   "outputs": [],
   "source": [
    "cities = gpd.read_file('/Users/guilhermeiablonovski/Dropbox (SDSN)/SDG Geospatial Indicators Project/sdg-accessibility/data/final_by_continent/world_cities_raw.gpkg')\n",
    "countries = gpd.read_file('/Users/guilhermeiablonovski/Dropbox (SDSN)/SDG Geospatial Indicators Project/sdg-accessibility/data/final_by_continent/world_countries_raw.geojson')"
   ]
  },
  {
   "cell_type": "markdown",
   "id": "2852bc68",
   "metadata": {},
   "source": [
    "COUNTRIES SCHEMA\n",
    "\n",
    "['status', 'name', 'continent', 'region', 'french_sho', 'ISO_CC',\n",
    "       'LAND_RANK', 'COUNTRYAFF', 'w_health', 'w_communit', 'w_educatio',\n",
    "       'w_food', 'w_nightlif', 'w_mobility', 'w_active', 'w_pois', 'c_health',\n",
    "       'c_communit', 'c_educatio', 'c_food', 'c_nightlif', 'c_mobility',\n",
    "       'c_active', 'c_pois', 'geometry']"
   ]
  },
  {
   "cell_type": "code",
   "execution_count": 5,
   "id": "dcc4e42a",
   "metadata": {},
   "outputs": [
    {
     "data": {
      "text/plain": [
       "Index(['iso3', 'status', 'color_code', 'name', 'continent', 'region',\n",
       "       'iso_3166_1', 'french_sho', 'COUNTRY', 'COUNTRY_3', 'ISO_CC',\n",
       "       'CONTINENT_', 'LAND_RANK', 'COUNTRYAFF', 'area', 'OECD', 'w_health',\n",
       "       'w_community', 'w_education', 'w_food', 'w_nightlife', 'w_mobility',\n",
       "       'w_active', 'w_pois', 'c_health', 'c_community', 'c_education',\n",
       "       'c_food', 'c_nightlife', 'c_mobility', 'c_active', 'c_pois', 'R_AREA',\n",
       "       'rep_area', 'P15', 'R_P15', 'rep_pop', 'representativity_index',\n",
       "       'geometry'],\n",
       "      dtype='object')"
      ]
     },
     "execution_count": 5,
     "metadata": {},
     "output_type": "execute_result"
    }
   ],
   "source": [
    "countries.columns"
   ]
  },
  {
   "cell_type": "code",
   "execution_count": 6,
   "id": "581738a8",
   "metadata": {},
   "outputs": [],
   "source": [
    "countries = countries[countries['representativity_index']>0.4]"
   ]
  },
  {
   "cell_type": "code",
   "execution_count": 67,
   "id": "eb51a800",
   "metadata": {},
   "outputs": [
    {
     "name": "stderr",
     "output_type": "stream",
     "text": [
      "/Users/guilhermeiablonovski/opt/anaconda3/envs/geopandasenv/lib/python3.7/site-packages/ipykernel_launcher.py:2: UserWarning: Column names longer than 10 characters will be truncated when saved to ESRI Shapefile.\n",
      "  \n"
     ]
    }
   ],
   "source": [
    "countries = countries.drop(['iso3', 'color_code','iso_3166_1','COUNTRY','COUNTRY_3','CONTINENT_','area','P15','R_P15','R_AREA'], axis=1)\n",
    "countries.to_file('data/final_by_continent/world_countries.shp')\n",
    "countries.to_file('data/final_by_continent/world_countries.gpkg')"
   ]
  },
  {
   "cell_type": "markdown",
   "id": "4aa80ba9",
   "metadata": {},
   "source": [
    "CITIES SCHEMA\n",
    "\n",
    "['ID_HDC_G0', 'AREA', 'w_health', 'w_communit', 'w_educatio', 'w_food',\n",
    "       'w_nightlif', 'w_mobility', 'w_active', 'w_pois', 'POP_2015',\n",
    "       'p_health', 'p_communit', 'p_educatio', 'p_food', 'p_nightlif',\n",
    "       'p_mobility', 'p_active', 'p_pois', 'c_health', 'c_communit',\n",
    "       'c_educatio', 'c_food', 'c_nightlif', 'c_mobility', 'c_active',\n",
    "       'c_pois', 'XC_NM_LST', 'XC_ISO_LST', 'GRGN_L1', 'GRGN_L2', 'UC_NM_MN',\n",
    "       'UC_NM_LST', 'geometry']"
   ]
  },
  {
   "cell_type": "code",
   "execution_count": null,
   "id": "b0d805c7",
   "metadata": {},
   "outputs": [],
   "source": []
  },
  {
   "cell_type": "code",
   "execution_count": 47,
   "id": "b8b955fd",
   "metadata": {},
   "outputs": [
    {
     "data": {
      "text/plain": [
       "Index(['ID_HDC_G0', 'QA2_1V', 'AREA', 'BBX_LATMN', 'BBX_LONMN', 'BBX_LATMX',\n",
       "       'BBX_LONMX', 'GCPNT_LAT', 'GCPNT_LON', 'CTR_MN_NM',\n",
       "       ...\n",
       "       'p_pois', 'c_health', 'c_community', 'c_education', 'c_food',\n",
       "       'c_nightlife', 'c_mobility', 'c_active', 'c_pois', 'geometry'],\n",
       "      dtype='object', length=186)"
      ]
     },
     "execution_count": 47,
     "metadata": {},
     "output_type": "execute_result"
    }
   ],
   "source": [
    "cities_schema = ['ID_HDC_G0', 'AREA', 'w_health', 'w_community', 'w_education', 'w_food', 'w_nightlife', 'w_mobility', 'w_active', 'w_pois', 'POP_2015', 'p_health', 'p_community', 'p_education', 'p_food', 'p_nightlife', 'p_mobility', 'p_active', 'p_pois', 'c_health', 'c_community', 'c_education', 'c_food', 'c_nightlife', 'c_mobility', 'c_active', 'c_pois', 'XC_NM_LST', 'XC_ISO_LST', 'GRGN_L1', 'GRGN_L2', 'UC_NM_MN', 'UC_NM_LST', 'geometry']\n",
    "cities.columns"
   ]
  },
  {
   "cell_type": "code",
   "execution_count": 48,
   "id": "284de96b",
   "metadata": {},
   "outputs": [],
   "source": [
    "to_drop = list(set(cities.columns).difference(cities_schema))"
   ]
  },
  {
   "cell_type": "code",
   "execution_count": 49,
   "id": "e8e93be6",
   "metadata": {},
   "outputs": [],
   "source": [
    "cities = cities.drop(to_drop, axis=1)"
   ]
  },
  {
   "cell_type": "code",
   "execution_count": 50,
   "id": "8fddeef6",
   "metadata": {},
   "outputs": [
    {
     "name": "stderr",
     "output_type": "stream",
     "text": [
      "/Users/guilhermeiablonovski/opt/anaconda3/envs/geopandasenv/lib/python3.7/site-packages/ipykernel_launcher.py:1: UserWarning: Column names longer than 10 characters will be truncated when saved to ESRI Shapefile.\n",
      "  \"\"\"Entry point for launching an IPython kernel.\n"
     ]
    }
   ],
   "source": [
    "cities.to_file('data/final_by_continent/world_cities.shp')\n",
    "cities.to_file('data/final_by_continent/world_cities.gpkg')"
   ]
  },
  {
   "cell_type": "code",
   "execution_count": null,
   "id": "9df2a5f0",
   "metadata": {},
   "outputs": [],
   "source": []
  }
 ],
 "metadata": {
  "kernelspec": {
   "display_name": "geopandasenv",
   "language": "python",
   "name": "geopandasenv"
  },
  "language_info": {
   "codemirror_mode": {
    "name": "ipython",
    "version": 3
   },
   "file_extension": ".py",
   "mimetype": "text/x-python",
   "name": "python",
   "nbconvert_exporter": "python",
   "pygments_lexer": "ipython3",
   "version": "3.7.12"
  }
 },
 "nbformat": 4,
 "nbformat_minor": 5
}
